{
 "cells": [
  {
   "cell_type": "code",
   "execution_count": 1,
   "metadata": {},
   "outputs": [],
   "source": [
    "import sys\n",
    "import os\n",
    "sys.path.append(os.path.join(os.getcwd(), '../src'))\n",
    "from reconstruct_image import ImageReconstructor\n",
    "from postprocessing import ImagePostProcessor"
   ]
  },
  {
   "cell_type": "code",
   "execution_count": 2,
   "metadata": {},
   "outputs": [],
   "source": [
    "# get data images\n",
    "img_path = '../assets/gandalf/gandalf-bw.bmp'\n",
    "\n",
    "# define parameters\n",
    "P, Q = 16, 16 # block size\n",
    "S = [10,50,100,150,200] # number of sensed pixels\n",
    "M = 20 # number of cross-validation folds\n",
    "train_test_ratio = 0.3 # ratio of training data to test data"
   ]
  },
  {
   "cell_type": "code",
   "execution_count": 4,
   "metadata": {},
   "outputs": [
    {
     "name": "stdout",
     "output_type": "stream",
     "text": [
      "(1201, 1600, 4)\n"
     ]
    },
    {
     "ename": "ValueError",
     "evalue": "`window_shape` is incompatible with `arr_in.shape`",
     "output_type": "error",
     "traceback": [
      "\u001b[0;31m---------------------------------------------------------------------------\u001b[0m",
      "\u001b[0;31mValueError\u001b[0m                                Traceback (most recent call last)",
      "Cell \u001b[0;32mIn[4], line 4\u001b[0m\n\u001b[1;32m      2\u001b[0m \u001b[38;5;28;01mfor\u001b[39;00m s \u001b[38;5;129;01min\u001b[39;00m S:\n\u001b[1;32m      3\u001b[0m     reconstructor \u001b[38;5;241m=\u001b[39m ImageReconstructor(P, Q, s, M, train_test_ratio, img_path\u001b[38;5;241m=\u001b[39mimg_path)\n\u001b[0;32m----> 4\u001b[0m     \u001b[43mreconstructor\u001b[49m\u001b[38;5;241;43m.\u001b[39;49m\u001b[43mreconstruct_image\u001b[49m\u001b[43m(\u001b[49m\u001b[43m)\u001b[49m\n\u001b[1;32m      5\u001b[0m     reconstructor\u001b[38;5;241m.\u001b[39mplot_images()\n\u001b[1;32m      6\u001b[0m     \u001b[38;5;66;03m# Get the images after plotting\u001b[39;00m\n",
      "File \u001b[0;32m~/Workspace/photograph-recovery-lasso/notebooks/../src/reconstruct_image.py:36\u001b[0m, in \u001b[0;36mImageReconstructor.reconstruct_image\u001b[0;34m(self)\u001b[0m\n\u001b[1;32m     33\u001b[0m \u001b[38;5;28;01melse\u001b[39;00m:\n\u001b[1;32m     34\u001b[0m     blockfy \u001b[38;5;241m=\u001b[39m Blockfy(\u001b[38;5;28mself\u001b[39m\u001b[38;5;241m.\u001b[39mcorrupted_img, (\u001b[38;5;28mself\u001b[39m\u001b[38;5;241m.\u001b[39mP, \u001b[38;5;28mself\u001b[39m\u001b[38;5;241m.\u001b[39mQ), \u001b[38;5;28mself\u001b[39m\u001b[38;5;241m.\u001b[39mP)\n\u001b[0;32m---> 36\u001b[0m \u001b[43mblockfy\u001b[49m\u001b[38;5;241;43m.\u001b[39;49m\u001b[43mgenerate_blocks\u001b[49m\u001b[43m(\u001b[49m\u001b[43m)\u001b[49m\n\u001b[1;32m     37\u001b[0m corrpt_blocks \u001b[38;5;241m=\u001b[39m \u001b[38;5;28mself\u001b[39m\u001b[38;5;241m.\u001b[39mcorrupted_img \u001b[38;5;28;01mif\u001b[39;00m \u001b[38;5;28mself\u001b[39m\u001b[38;5;241m.\u001b[39mcorrupted_img \u001b[38;5;28;01melse\u001b[39;00m blockfy\u001b[38;5;241m.\u001b[39mgenerate_corrupted_blocks(\u001b[38;5;28mself\u001b[39m\u001b[38;5;241m.\u001b[39mS)\n\u001b[1;32m     38\u001b[0m original_blocks \u001b[38;5;241m=\u001b[39m blockfy\u001b[38;5;241m.\u001b[39mget_blocks()\n",
      "File \u001b[0;32m~/Workspace/photograph-recovery-lasso/notebooks/../src/blockfy.py:57\u001b[0m, in \u001b[0;36mBlockfy.generate_blocks\u001b[0;34m(self)\u001b[0m\n\u001b[1;32m     51\u001b[0m \u001b[38;5;28;01mdef\u001b[39;00m \u001b[38;5;21mgenerate_blocks\u001b[39m(\u001b[38;5;28mself\u001b[39m) \u001b[38;5;241m-\u001b[39m\u001b[38;5;241m>\u001b[39m np\u001b[38;5;241m.\u001b[39mndarray:\n\u001b[1;32m     52\u001b[0m \u001b[38;5;250m    \u001b[39m\u001b[38;5;124;03m\"\"\"Divide the image into blocks of the specified shape and step size.\u001b[39;00m\n\u001b[1;32m     53\u001b[0m \n\u001b[1;32m     54\u001b[0m \u001b[38;5;124;03m    Returns:\u001b[39;00m\n\u001b[1;32m     55\u001b[0m \u001b[38;5;124;03m        numpy.ndarray: Array of image blocks with shape (num_blocks_y, num_blocks_x, block_height, block_width)\u001b[39;00m\n\u001b[1;32m     56\u001b[0m \u001b[38;5;124;03m    \"\"\"\u001b[39;00m\n\u001b[0;32m---> 57\u001b[0m     \u001b[38;5;28mself\u001b[39m\u001b[38;5;241m.\u001b[39mimg_blocks \u001b[38;5;241m=\u001b[39m \u001b[43mview_as_windows\u001b[49m\u001b[43m(\u001b[49m\u001b[38;5;28;43mself\u001b[39;49m\u001b[38;5;241;43m.\u001b[39;49m\u001b[43mimg\u001b[49m\u001b[43m,\u001b[49m\u001b[43m \u001b[49m\u001b[38;5;28;43mself\u001b[39;49m\u001b[38;5;241;43m.\u001b[39;49m\u001b[43mblock_shape\u001b[49m\u001b[43m,\u001b[49m\u001b[43m \u001b[49m\u001b[38;5;28;43mself\u001b[39;49m\u001b[38;5;241;43m.\u001b[39;49m\u001b[43mblock_step\u001b[49m\u001b[43m)\u001b[49m\n\u001b[1;32m     58\u001b[0m     \u001b[38;5;28;01mreturn\u001b[39;00m \u001b[38;5;28mself\u001b[39m\u001b[38;5;241m.\u001b[39mimg_blocks\n",
      "File \u001b[0;32m~/Library/jupyterlab-desktop/jlab_server/lib/python3.12/site-packages/skimage/util/shape.py:215\u001b[0m, in \u001b[0;36mview_as_windows\u001b[0;34m(arr_in, window_shape, step)\u001b[0m\n\u001b[1;32m    213\u001b[0m     window_shape \u001b[38;5;241m=\u001b[39m (window_shape,) \u001b[38;5;241m*\u001b[39m ndim\n\u001b[1;32m    214\u001b[0m \u001b[38;5;28;01mif\u001b[39;00m \u001b[38;5;129;01mnot\u001b[39;00m (\u001b[38;5;28mlen\u001b[39m(window_shape) \u001b[38;5;241m==\u001b[39m ndim):\n\u001b[0;32m--> 215\u001b[0m     \u001b[38;5;28;01mraise\u001b[39;00m \u001b[38;5;167;01mValueError\u001b[39;00m(\u001b[38;5;124m\"\u001b[39m\u001b[38;5;124m`window_shape` is incompatible with `arr_in.shape`\u001b[39m\u001b[38;5;124m\"\u001b[39m)\n\u001b[1;32m    217\u001b[0m \u001b[38;5;28;01mif\u001b[39;00m \u001b[38;5;28misinstance\u001b[39m(step, numbers\u001b[38;5;241m.\u001b[39mNumber):\n\u001b[1;32m    218\u001b[0m     \u001b[38;5;28;01mif\u001b[39;00m step \u001b[38;5;241m<\u001b[39m \u001b[38;5;241m1\u001b[39m:\n",
      "\u001b[0;31mValueError\u001b[0m: `window_shape` is incompatible with `arr_in.shape`"
     ]
    }
   ],
   "source": [
    "# reconstruct images\n",
    "for s in S:\n",
    "    reconstructor = ImageReconstructor(P, Q, s, M, train_test_ratio, img_path=img_path)\n",
    "    reconstructor.reconstruct_image()\n",
    "    reconstructor.plot_images()\n",
    "    # Get the images after plotting\n",
    "    original, corrupted, recovered = reconstructor.get_images()\n",
    "    \n",
    "    # save images\n",
    "    if not os.path.exists('../output/gandalf'):\n",
    "        os.makedirs('../output/gandalf')\n",
    "    original.save('../output/gandalf/original.png')\n",
    "    corrupted.save('../output/gandalf/corrupted_s{}.png'.format(s))\n",
    "    recovered.save('../output/gandalf/recovered_s{}.png'.format(s))"
   ]
  },
  {
   "cell_type": "code",
   "execution_count": null,
   "metadata": {},
   "outputs": [],
   "source": []
  }
 ],
 "metadata": {
  "kernelspec": {
   "display_name": "Python 3",
   "language": "python",
   "name": "python3"
  },
  "language_info": {
   "codemirror_mode": {
    "name": "ipython",
    "version": 3
   },
   "file_extension": ".py",
   "mimetype": "text/x-python",
   "name": "python",
   "nbconvert_exporter": "python",
   "pygments_lexer": "ipython3",
   "version": "3.12.5"
  }
 },
 "nbformat": 4,
 "nbformat_minor": 2
}
